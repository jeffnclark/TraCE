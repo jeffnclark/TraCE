{
 "cells": [
  {
   "cell_type": "code",
   "execution_count": 1,
   "id": "80130338-6ba6-4cd8-a3df-39a3e66500b5",
   "metadata": {},
   "outputs": [],
   "source": [
    "from funcs_ssp_study import *\n",
    "\n",
    "import os\n",
    "import xarray as xr\n",
    "import pandas as pd\n",
    "import geopandas as gpd\n",
    "import re\n",
    "import json\n",
    "from tqdm import tqdm\n",
    "import cdsapi\n",
    "import zipfile\n",
    "import shutil\n",
    "import requests"
   ]
  },
  {
   "cell_type": "code",
   "execution_count": null,
   "id": "34ebb506-e3a5-41c2-8fd9-d68f85ac6d16",
   "metadata": {},
   "outputs": [],
   "source": []
  },
  {
   "cell_type": "code",
   "execution_count": null,
   "id": "90bd39f2-23ea-4638-9a10-ce3e0858ed46",
   "metadata": {},
   "outputs": [],
   "source": []
  },
  {
   "cell_type": "code",
   "execution_count": null,
   "id": "bb75dc0b-2d98-4b37-bc47-192021e75634",
   "metadata": {},
   "outputs": [],
   "source": []
  },
  {
   "cell_type": "code",
   "execution_count": null,
   "id": "95954ebf-a823-41ff-9f6a-d57e0e552a0a",
   "metadata": {},
   "outputs": [],
   "source": []
  },
  {
   "cell_type": "code",
   "execution_count": null,
   "id": "bb2c0ed0-a5d0-4138-a230-8d9b45b27494",
   "metadata": {},
   "outputs": [],
   "source": []
  },
  {
   "cell_type": "code",
   "execution_count": null,
   "id": "54cc746c-0e6a-4619-9713-cf2db0e59ec1",
   "metadata": {},
   "outputs": [],
   "source": []
  },
  {
   "cell_type": "code",
   "execution_count": null,
   "id": "14a68c5e-6819-4a37-a4d4-56122e0adb47",
   "metadata": {},
   "outputs": [],
   "source": []
  },
  {
   "cell_type": "code",
   "execution_count": null,
   "id": "e70b1785-1651-4a58-9a85-af3d4317ff3d",
   "metadata": {},
   "outputs": [],
   "source": []
  },
  {
   "cell_type": "code",
   "execution_count": null,
   "id": "ab04d9f8-ffab-4da5-93a0-1c0d6ed43fed",
   "metadata": {},
   "outputs": [],
   "source": []
  },
  {
   "cell_type": "code",
   "execution_count": null,
   "id": "0828a72a-9d5f-485c-85aa-67c9cfdaa057",
   "metadata": {},
   "outputs": [],
   "source": []
  },
  {
   "cell_type": "code",
   "execution_count": null,
   "id": "2060992c-bef3-4d8c-9cb2-62e74643598a",
   "metadata": {},
   "outputs": [],
   "source": []
  },
  {
   "cell_type": "code",
   "execution_count": null,
   "id": "a0962978-db9c-4723-bfdb-6ab9cf067e06",
   "metadata": {},
   "outputs": [],
   "source": []
  },
  {
   "cell_type": "code",
   "execution_count": null,
   "id": "041d6478-7421-4aeb-b69a-d1592ab0fa12",
   "metadata": {},
   "outputs": [],
   "source": []
  },
  {
   "cell_type": "code",
   "execution_count": null,
   "id": "6e5b3bd7-948c-47f2-82b3-857d9dda9d6c",
   "metadata": {},
   "outputs": [],
   "source": []
  },
  {
   "cell_type": "code",
   "execution_count": null,
   "id": "cc058f4a-bb69-4a57-bf6c-ef68a09a68c1",
   "metadata": {},
   "outputs": [],
   "source": []
  },
  {
   "cell_type": "code",
   "execution_count": null,
   "id": "8276da21-beda-4db9-b600-807677c8e82b",
   "metadata": {},
   "outputs": [],
   "source": []
  },
  {
   "cell_type": "code",
   "execution_count": null,
   "id": "70e83a31-0063-402d-9168-ab24c84a6051",
   "metadata": {},
   "outputs": [],
   "source": []
  },
  {
   "cell_type": "markdown",
   "id": "c7991932-acc0-4112-b00e-98e958c33fe1",
   "metadata": {},
   "source": [
    "# Code"
   ]
  },
  {
   "cell_type": "code",
   "execution_count": 8,
   "id": "705da193-4c3e-459f-9cdc-ec4f5bbb359b",
   "metadata": {},
   "outputs": [],
   "source": [
    "data_directory = \"/Users/michellewan/PycharmProjects/TraCE/data_pipeline\"\n",
    "data_subdirectory = os.path.join(data_directory, \"raw\")\n",
    "output_subdirectory = os.path.join(data_directory, \"processed_monthly\")\n",
    "\n",
    "country_shapes_filepath = \"/Users/michellewan/PycharmProjects/TraCE/data_pipeline/ne_10m_admin_0_countries/ne_10m_admin_0_countries.shp\"\n",
    "country_codes_filepath = \"/Users/michellewan/PycharmProjects/TraCE/data_pipeline/OECD_population_GDP/OECD_country_codes.csv\"\n",
    "alignments_filepath = \"/Users/michellewan/PycharmProjects/TraCE/alignments.json\"\n",
    "\n",
    "socioeconomic_directory = \"/Users/michellewan/PycharmProjects/TraCE/data_pipeline/OECD_population_GDP\"\n",
    "socioeconomic_ssp_filepath = os.path.join(socioeconomic_directory, \"SspDb_country_data_2013-06-12.csv\")\n",
    "population_historical_filepath = os.path.join(socioeconomic_directory, \"HISTPOP_22082023151824127.csv\")\n",
    "gdp_historical_filepath = os.path.join(socioeconomic_directory, \"DP_LIVE_22082023165117703.csv\")"
   ]
  },
  {
   "cell_type": "code",
   "execution_count": 3,
   "id": "472015f8-9892-4b72-a8a5-5778670717a8",
   "metadata": {},
   "outputs": [],
   "source": [
    "climate_variables = [\n",
    "    \"temperature\", \n",
    "    \"pressure\",\n",
    "    \"wind_speed\",\n",
    "    \"precipitation\"\n",
    "]\n",
    "\n",
    "socioeconomic_variables = [\n",
    "    \"GDP|PPP\", \n",
    "    \"Population\"\n",
    "]\n",
    "\n",
    "atmospheric_variables = [\n",
    "    \"ch4\"\n",
    "]"
   ]
  },
  {
   "cell_type": "code",
   "execution_count": 4,
   "id": "5f021485-2290-42fa-baa7-32634e8a5a49",
   "metadata": {},
   "outputs": [],
   "source": [
    "SSPs = [str(ssp) for ssp in range(1, 5+1)]"
   ]
  },
  {
   "cell_type": "code",
   "execution_count": 5,
   "id": "8c89766c-1780-4c54-b496-aa1518c4df95",
   "metadata": {},
   "outputs": [],
   "source": [
    "frequency = \"M\"\n",
    "\n",
    "start_year = 2015\n",
    "end_year = 2023"
   ]
  },
  {
   "cell_type": "markdown",
   "id": "f3afa3e1-295f-432e-b087-8dd74f7e6c9a",
   "metadata": {},
   "source": [
    "## DOWNLOAD"
   ]
  },
  {
   "cell_type": "code",
   "execution_count": null,
   "id": "736839b7-98ad-43dd-865b-d802498fad57",
   "metadata": {
    "scrolled": true
   },
   "outputs": [],
   "source": [
    "# Downloading climate data from Copernicus CDS requires a registered account (free)\n",
    "download_climate_variables_data(data_subdirectory, climate_variables, SSPs, start_year, end_year)"
   ]
  },
  {
   "cell_type": "code",
   "execution_count": null,
   "id": "c2051a64-2b01-487a-b9ca-f7e57fa6cec9",
   "metadata": {},
   "outputs": [],
   "source": [
    "# Atmospheric SSP data is freely available via ESGF\n",
    "download_atmospheric_variables_data(data_subdirectory, atmospheric_variables, SSPs)"
   ]
  },
  {
   "cell_type": "markdown",
   "id": "d27547db-78ea-42b8-9d0d-b3cfb4107125",
   "metadata": {},
   "source": [
    "## PROCESS"
   ]
  },
  {
   "cell_type": "code",
   "execution_count": 6,
   "id": "cd593051-ee36-47ca-84f8-20299390ac76",
   "metadata": {},
   "outputs": [
    {
     "name": "stdout",
     "output_type": "stream",
     "text": [
      "Processing files...\n",
      "ssp1_ch4.nc\n"
     ]
    },
    {
     "name": "stderr",
     "output_type": "stream",
     "text": [
      "Aggregating: 100%|████████████████████████████████████████████████████████████████████████████████████████████████████████████████████████████████████████████████████████████████████████████████████| 258/258 [34:18<00:00,  7.98s/it]\n"
     ]
    },
    {
     "name": "stdout",
     "output_type": "stream",
     "text": [
      "ssp3_wind_speed.nc\n"
     ]
    },
    {
     "name": "stderr",
     "output_type": "stream",
     "text": [
      "Aggregating: 100%|████████████████████████████████████████████████████████████████████████████████████████████████████████████████████████████████████████████████████████████████████████████████████| 258/258 [00:08<00:00, 31.82it/s]\n"
     ]
    },
    {
     "name": "stdout",
     "output_type": "stream",
     "text": [
      "ssp4_wind_speed.nc\n"
     ]
    },
    {
     "name": "stderr",
     "output_type": "stream",
     "text": [
      "Aggregating: 100%|████████████████████████████████████████████████████████████████████████████████████████████████████████████████████████████████████████████████████████████████████████████████████| 258/258 [00:07<00:00, 35.82it/s]\n"
     ]
    },
    {
     "name": "stdout",
     "output_type": "stream",
     "text": [
      "ssp3_pressure.nc\n"
     ]
    },
    {
     "name": "stderr",
     "output_type": "stream",
     "text": [
      "Aggregating: 100%|████████████████████████████████████████████████████████████████████████████████████████████████████████████████████████████████████████████████████████████████████████████████████| 258/258 [00:07<00:00, 35.87it/s]\n"
     ]
    },
    {
     "name": "stdout",
     "output_type": "stream",
     "text": [
      "historical_ch4.nc\n"
     ]
    },
    {
     "name": "stderr",
     "output_type": "stream",
     "text": [
      "Aggregating: 100%|████████████████████████████████████████████████████████████████████████████████████████████████████████████████████████████████████████████████████████████████████████████████████| 258/258 [00:59<00:00,  4.35it/s]\n"
     ]
    },
    {
     "name": "stdout",
     "output_type": "stream",
     "text": [
      "ssp4_precipitation.nc\n"
     ]
    },
    {
     "name": "stderr",
     "output_type": "stream",
     "text": [
      "Aggregating: 100%|████████████████████████████████████████████████████████████████████████████████████████████████████████████████████████████████████████████████████████████████████████████████████| 258/258 [00:08<00:00, 31.32it/s]\n"
     ]
    },
    {
     "name": "stdout",
     "output_type": "stream",
     "text": [
      "ssp3_ch4.nc\n"
     ]
    },
    {
     "name": "stderr",
     "output_type": "stream",
     "text": [
      "Aggregating: 100%|████████████████████████████████████████████████████████████████████████████████████████████████████████████████████████████████████████████████████████████████████████████████████| 258/258 [00:39<00:00,  6.47it/s]\n"
     ]
    },
    {
     "name": "stdout",
     "output_type": "stream",
     "text": [
      "ssp1_precipitation.nc\n"
     ]
    },
    {
     "name": "stderr",
     "output_type": "stream",
     "text": [
      "Aggregating: 100%|████████████████████████████████████████████████████████████████████████████████████████████████████████████████████████████████████████████████████████████████████████████████████| 258/258 [00:09<00:00, 27.32it/s]\n"
     ]
    },
    {
     "name": "stdout",
     "output_type": "stream",
     "text": [
      "ssp5_pressure.nc\n"
     ]
    },
    {
     "name": "stderr",
     "output_type": "stream",
     "text": [
      "Aggregating: 100%|████████████████████████████████████████████████████████████████████████████████████████████████████████████████████████████████████████████████████████████████████████████████████| 258/258 [00:08<00:00, 30.80it/s]\n"
     ]
    },
    {
     "name": "stdout",
     "output_type": "stream",
     "text": [
      "ssp5_ch4.nc\n"
     ]
    },
    {
     "name": "stderr",
     "output_type": "stream",
     "text": [
      "Aggregating: 100%|████████████████████████████████████████████████████████████████████████████████████████████████████████████████████████████████████████████████████████████████████████████████████| 258/258 [38:03<00:00,  8.85s/it]\n"
     ]
    },
    {
     "name": "stdout",
     "output_type": "stream",
     "text": [
      "historical_wind_speed.nc\n"
     ]
    },
    {
     "name": "stderr",
     "output_type": "stream",
     "text": [
      "Aggregating: 100%|████████████████████████████████████████████████████████████████████████████████████████████████████████████████████████████████████████████████████████████████████████████████████| 258/258 [08:01<00:00,  1.87s/it]\n"
     ]
    },
    {
     "name": "stdout",
     "output_type": "stream",
     "text": [
      "ssp5_precipitation.nc\n"
     ]
    },
    {
     "name": "stderr",
     "output_type": "stream",
     "text": [
      "Aggregating: 100%|████████████████████████████████████████████████████████████████████████████████████████████████████████████████████████████████████████████████████████████████████████████████████| 258/258 [00:07<00:00, 32.26it/s]\n"
     ]
    },
    {
     "name": "stdout",
     "output_type": "stream",
     "text": [
      "historical_precipitation.nc\n"
     ]
    },
    {
     "name": "stderr",
     "output_type": "stream",
     "text": [
      "Aggregating: 100%|████████████████████████████████████████████████████████████████████████████████████████████████████████████████████████████████████████████████████████████████████████████████████| 258/258 [07:50<00:00,  1.82s/it]\n"
     ]
    },
    {
     "name": "stdout",
     "output_type": "stream",
     "text": [
      "ssp1_temperature.nc\n"
     ]
    },
    {
     "name": "stderr",
     "output_type": "stream",
     "text": [
      "Aggregating: 100%|████████████████████████████████████████████████████████████████████████████████████████████████████████████████████████████████████████████████████████████████████████████████████| 258/258 [00:08<00:00, 30.77it/s]\n"
     ]
    },
    {
     "name": "stdout",
     "output_type": "stream",
     "text": [
      "historical_temperature.nc\n"
     ]
    },
    {
     "name": "stderr",
     "output_type": "stream",
     "text": [
      "Aggregating: 100%|████████████████████████████████████████████████████████████████████████████████████████████████████████████████████████████████████████████████████████████████████████████████████| 258/258 [07:44<00:00,  1.80s/it]\n"
     ]
    },
    {
     "name": "stdout",
     "output_type": "stream",
     "text": [
      "ssp2_pressure.nc\n"
     ]
    },
    {
     "name": "stderr",
     "output_type": "stream",
     "text": [
      "Aggregating: 100%|████████████████████████████████████████████████████████████████████████████████████████████████████████████████████████████████████████████████████████████████████████████████████| 258/258 [00:07<00:00, 33.04it/s]\n"
     ]
    },
    {
     "name": "stdout",
     "output_type": "stream",
     "text": [
      "ssp2_precipitation.nc\n"
     ]
    },
    {
     "name": "stderr",
     "output_type": "stream",
     "text": [
      "Aggregating: 100%|████████████████████████████████████████████████████████████████████████████████████████████████████████████████████████████████████████████████████████████████████████████████████| 258/258 [00:07<00:00, 36.33it/s]\n"
     ]
    },
    {
     "name": "stdout",
     "output_type": "stream",
     "text": [
      "ssp2_ch4.nc\n"
     ]
    },
    {
     "name": "stderr",
     "output_type": "stream",
     "text": [
      "Aggregating: 100%|████████████████████████████████████████████████████████████████████████████████████████████████████████████████████████████████████████████████████████████████████████████████████| 258/258 [00:33<00:00,  7.67it/s]\n"
     ]
    },
    {
     "name": "stdout",
     "output_type": "stream",
     "text": [
      "ssp1_wind_speed.nc\n"
     ]
    },
    {
     "name": "stderr",
     "output_type": "stream",
     "text": [
      "Aggregating: 100%|████████████████████████████████████████████████████████████████████████████████████████████████████████████████████████████████████████████████████████████████████████████████████| 258/258 [00:08<00:00, 31.83it/s]\n"
     ]
    },
    {
     "name": "stdout",
     "output_type": "stream",
     "text": [
      "historical_pressure.nc\n"
     ]
    },
    {
     "name": "stderr",
     "output_type": "stream",
     "text": [
      "Aggregating: 100%|████████████████████████████████████████████████████████████████████████████████████████████████████████████████████████████████████████████████████████████████████████████████████| 258/258 [07:23<00:00,  1.72s/it]\n"
     ]
    },
    {
     "name": "stdout",
     "output_type": "stream",
     "text": [
      "ssp2_temperature.nc\n"
     ]
    },
    {
     "name": "stderr",
     "output_type": "stream",
     "text": [
      "Aggregating: 100%|████████████████████████████████████████████████████████████████████████████████████████████████████████████████████████████████████████████████████████████████████████████████████| 258/258 [00:07<00:00, 33.28it/s]\n"
     ]
    },
    {
     "name": "stdout",
     "output_type": "stream",
     "text": [
      "ssp5_wind_speed.nc\n"
     ]
    },
    {
     "name": "stderr",
     "output_type": "stream",
     "text": [
      "Aggregating: 100%|████████████████████████████████████████████████████████████████████████████████████████████████████████████████████████████████████████████████████████████████████████████████████| 258/258 [00:07<00:00, 36.26it/s]\n"
     ]
    },
    {
     "name": "stdout",
     "output_type": "stream",
     "text": [
      "ssp3_precipitation.nc\n"
     ]
    },
    {
     "name": "stderr",
     "output_type": "stream",
     "text": [
      "Aggregating: 100%|████████████████████████████████████████████████████████████████████████████████████████████████████████████████████████████████████████████████████████████████████████████████████| 258/258 [00:07<00:00, 34.65it/s]\n"
     ]
    },
    {
     "name": "stdout",
     "output_type": "stream",
     "text": [
      "ssp5_temperature.nc\n"
     ]
    },
    {
     "name": "stderr",
     "output_type": "stream",
     "text": [
      "Aggregating: 100%|████████████████████████████████████████████████████████████████████████████████████████████████████████████████████████████████████████████████████████████████████████████████████| 258/258 [00:07<00:00, 35.94it/s]\n"
     ]
    },
    {
     "name": "stdout",
     "output_type": "stream",
     "text": [
      "ssp4_pressure.nc\n"
     ]
    },
    {
     "name": "stderr",
     "output_type": "stream",
     "text": [
      "Aggregating: 100%|████████████████████████████████████████████████████████████████████████████████████████████████████████████████████████████████████████████████████████████████████████████████████| 258/258 [00:11<00:00, 22.37it/s]\n"
     ]
    },
    {
     "name": "stdout",
     "output_type": "stream",
     "text": [
      "ssp4_temperature.nc\n"
     ]
    },
    {
     "name": "stderr",
     "output_type": "stream",
     "text": [
      "Aggregating: 100%|████████████████████████████████████████████████████████████████████████████████████████████████████████████████████████████████████████████████████████████████████████████████████| 258/258 [00:07<00:00, 35.95it/s]\n"
     ]
    },
    {
     "name": "stdout",
     "output_type": "stream",
     "text": [
      "ssp1_pressure.nc\n"
     ]
    },
    {
     "name": "stderr",
     "output_type": "stream",
     "text": [
      "Aggregating: 100%|████████████████████████████████████████████████████████████████████████████████████████████████████████████████████████████████████████████████████████████████████████████████████| 258/258 [00:08<00:00, 29.78it/s]\n"
     ]
    },
    {
     "name": "stdout",
     "output_type": "stream",
     "text": [
      "ssp3_temperature.nc\n"
     ]
    },
    {
     "name": "stderr",
     "output_type": "stream",
     "text": [
      "Aggregating: 100%|████████████████████████████████████████████████████████████████████████████████████████████████████████████████████████████████████████████████████████████████████████████████████| 258/258 [00:06<00:00, 36.97it/s]\n"
     ]
    },
    {
     "name": "stdout",
     "output_type": "stream",
     "text": [
      "ssp2_wind_speed.nc\n"
     ]
    },
    {
     "name": "stderr",
     "output_type": "stream",
     "text": [
      "Aggregating: 100%|████████████████████████████████████████████████████████████████████████████████████████████████████████████████████████████████████████████████████████████████████████████████████| 258/258 [02:30<00:00,  1.72it/s]\n"
     ]
    },
    {
     "name": "stdout",
     "output_type": "stream",
     "text": [
      "ssp4_ch4.nc\n"
     ]
    },
    {
     "name": "stderr",
     "output_type": "stream",
     "text": [
      "Aggregating: 100%|████████████████████████████████████████████████████████████████████████████████████████████████████████████████████████████████████████████████████████████████████████████████████| 258/258 [12:56<00:00,  3.01s/it]\n"
     ]
    },
    {
     "name": "stdout",
     "output_type": "stream",
     "text": [
      "Processed data files saved to /Users/michellewan/PycharmProjects/TraCE/data_pipeline/processed_monthly\n"
     ]
    }
   ],
   "source": [
    "process_netcdf_data(data_subdirectory, output_subdirectory, \n",
    "                    country_shapes_filepath, country_codes_filepath, alignments_filepath, \n",
    "                    frequency)"
   ]
  },
  {
   "cell_type": "code",
   "execution_count": 9,
   "id": "93cb33bf-7920-4e0b-bd2c-ebd8abb73715",
   "metadata": {},
   "outputs": [
    {
     "name": "stdout",
     "output_type": "stream",
     "text": [
      "Extracting socioeconomic data from /Users/michellewan/PycharmProjects/TraCE/data_pipeline/OECD_population_GDP/SspDb_country_data_2013-06-12.csv\n",
      "Processing GDP|PPP...\n"
     ]
    },
    {
     "name": "stderr",
     "output_type": "stream",
     "text": [
      "100%|█████████████████████████████████████████████████████████████████████████████████████████████████████████████████████████████████████████████████████████████████████████████████████████████████████| 5/5 [00:00<00:00, 14.16it/s]\n"
     ]
    },
    {
     "name": "stdout",
     "output_type": "stream",
     "text": [
      "Processing Population...\n"
     ]
    },
    {
     "name": "stderr",
     "output_type": "stream",
     "text": [
      "100%|█████████████████████████████████████████████████████████████████████████████████████████████████████████████████████████████████████████████████████████████████████████████████████████████████████| 5/5 [00:00<00:00, 14.17it/s]\n"
     ]
    },
    {
     "name": "stdout",
     "output_type": "stream",
     "text": [
      "Saved output to /Users/michellewan/PycharmProjects/TraCE/data_pipeline/processed_monthly\n",
      "Processing /Users/michellewan/PycharmProjects/TraCE/data_pipeline/OECD_population_GDP/HISTPOP_22082023151824127.csv\n",
      "Output saved to /Users/michellewan/PycharmProjects/TraCE/data_pipeline/processed_monthly/historical_population.csv\n",
      "Processing /Users/michellewan/PycharmProjects/TraCE/data_pipeline/OECD_population_GDP/DP_LIVE_22082023165117703.csv\n",
      "Saved output to /Users/michellewan/PycharmProjects/TraCE/data_pipeline/processed_monthly/historical_gdp.csv\n"
     ]
    }
   ],
   "source": [
    "# Country-level GDP and population SSP data is downloaded from IIASA via a registered account (free)\n",
    "\n",
    "# Process the socioeconomic datasets\n",
    "extract_socioeconomic_ssp_data(socioeconomic_ssp_filepath, output_subdirectory, socioeconomic_variables, SSPs, start_year, end_year, frequency)\n",
    "process_population_historical_data(population_historical_filepath, output_subdirectory, frequency)\n",
    "process_GDP_historical_data(gdp_historical_filepath, output_subdirectory, frequency)"
   ]
  },
  {
   "cell_type": "code",
   "execution_count": null,
   "id": "f645fd19-d3cc-4fd6-ab82-e3eab6672d34",
   "metadata": {},
   "outputs": [],
   "source": []
  },
  {
   "cell_type": "markdown",
   "id": "b812d83c-28e9-4da8-9e40-2a78fde18bab",
   "metadata": {},
   "source": [
    "# Scratch"
   ]
  },
  {
   "cell_type": "code",
   "execution_count": null,
   "id": "a6706c9a-e90e-4836-bd73-c2f6fd416247",
   "metadata": {},
   "outputs": [],
   "source": []
  }
 ],
 "metadata": {
  "kernelspec": {
   "display_name": "Python 3 (ipykernel)",
   "language": "python",
   "name": "python3"
  },
  "language_info": {
   "codemirror_mode": {
    "name": "ipython",
    "version": 3
   },
   "file_extension": ".py",
   "mimetype": "text/x-python",
   "name": "python",
   "nbconvert_exporter": "python",
   "pygments_lexer": "ipython3",
   "version": "3.8.17"
  }
 },
 "nbformat": 4,
 "nbformat_minor": 5
}
