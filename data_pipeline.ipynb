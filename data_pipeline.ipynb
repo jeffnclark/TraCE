{
 "cells": [
  {
   "cell_type": "code",
   "execution_count": 1,
   "id": "80130338-6ba6-4cd8-a3df-39a3e66500b5",
   "metadata": {},
   "outputs": [],
   "source": [
    "from funcs_ssp_study import *\n",
    "\n",
    "import os\n",
    "import xarray as xr\n",
    "import pandas as pd\n",
    "import geopandas as gpd\n",
    "import re\n",
    "import json\n",
    "from tqdm import tqdm\n",
    "import cdsapi\n",
    "import zipfile\n",
    "import shutil\n",
    "import requests"
   ]
  },
  {
   "cell_type": "code",
   "execution_count": null,
   "id": "34ebb506-e3a5-41c2-8fd9-d68f85ac6d16",
   "metadata": {},
   "outputs": [],
   "source": []
  },
  {
   "cell_type": "code",
   "execution_count": null,
   "id": "90bd39f2-23ea-4638-9a10-ce3e0858ed46",
   "metadata": {},
   "outputs": [],
   "source": []
  },
  {
   "cell_type": "code",
   "execution_count": null,
   "id": "bb75dc0b-2d98-4b37-bc47-192021e75634",
   "metadata": {},
   "outputs": [],
   "source": []
  },
  {
   "cell_type": "code",
   "execution_count": null,
   "id": "95954ebf-a823-41ff-9f6a-d57e0e552a0a",
   "metadata": {},
   "outputs": [],
   "source": []
  },
  {
   "cell_type": "code",
   "execution_count": null,
   "id": "bb2c0ed0-a5d0-4138-a230-8d9b45b27494",
   "metadata": {},
   "outputs": [],
   "source": []
  },
  {
   "cell_type": "code",
   "execution_count": null,
   "id": "54cc746c-0e6a-4619-9713-cf2db0e59ec1",
   "metadata": {},
   "outputs": [],
   "source": []
  },
  {
   "cell_type": "code",
   "execution_count": null,
   "id": "14a68c5e-6819-4a37-a4d4-56122e0adb47",
   "metadata": {},
   "outputs": [],
   "source": []
  },
  {
   "cell_type": "code",
   "execution_count": null,
   "id": "e70b1785-1651-4a58-9a85-af3d4317ff3d",
   "metadata": {},
   "outputs": [],
   "source": []
  },
  {
   "cell_type": "code",
   "execution_count": null,
   "id": "ab04d9f8-ffab-4da5-93a0-1c0d6ed43fed",
   "metadata": {},
   "outputs": [],
   "source": []
  },
  {
   "cell_type": "code",
   "execution_count": null,
   "id": "0828a72a-9d5f-485c-85aa-67c9cfdaa057",
   "metadata": {},
   "outputs": [],
   "source": []
  },
  {
   "cell_type": "code",
   "execution_count": null,
   "id": "2060992c-bef3-4d8c-9cb2-62e74643598a",
   "metadata": {},
   "outputs": [],
   "source": []
  },
  {
   "cell_type": "code",
   "execution_count": null,
   "id": "a0962978-db9c-4723-bfdb-6ab9cf067e06",
   "metadata": {},
   "outputs": [],
   "source": []
  },
  {
   "cell_type": "code",
   "execution_count": null,
   "id": "041d6478-7421-4aeb-b69a-d1592ab0fa12",
   "metadata": {},
   "outputs": [],
   "source": []
  },
  {
   "cell_type": "code",
   "execution_count": null,
   "id": "6e5b3bd7-948c-47f2-82b3-857d9dda9d6c",
   "metadata": {},
   "outputs": [],
   "source": []
  },
  {
   "cell_type": "code",
   "execution_count": null,
   "id": "cc058f4a-bb69-4a57-bf6c-ef68a09a68c1",
   "metadata": {},
   "outputs": [],
   "source": []
  },
  {
   "cell_type": "code",
   "execution_count": null,
   "id": "8276da21-beda-4db9-b600-807677c8e82b",
   "metadata": {},
   "outputs": [],
   "source": []
  },
  {
   "cell_type": "code",
   "execution_count": null,
   "id": "70e83a31-0063-402d-9168-ab24c84a6051",
   "metadata": {},
   "outputs": [],
   "source": []
  },
  {
   "cell_type": "markdown",
   "id": "c7991932-acc0-4112-b00e-98e958c33fe1",
   "metadata": {},
   "source": [
    "# Code"
   ]
  },
  {
   "cell_type": "code",
   "execution_count": 7,
   "id": "705da193-4c3e-459f-9cdc-ec4f5bbb359b",
   "metadata": {},
   "outputs": [],
   "source": [
    "data_directory = \"/Users/michellewan/PycharmProjects/TraCE/data_pipeline\"\n",
    "data_subdirectory = os.path.join(data_directory, \"raw\")\n",
    "output_subdirectory = os.path.join(data_directory, \"processed_monthly\")\n",
    "\n",
    "country_shapes_filepath = \"/Users/michellewan/PycharmProjects/TraCE/data_pipeline/ne_10m_admin_0_countries/ne_10m_admin_0_countries.shp\"\n",
    "country_codes_filepath = \"/Users/michellewan/PycharmProjects/TraCE/data_pipeline/OECD_population_GDP/OECD_country_codes.csv\"\n",
    "alignments_filepath = \"/Users/michellewan/PycharmProjects/TraCE/alignments.json\"\n",
    "\n",
    "socioeconomic_directory = \"/Users/michellewan/Downloads/OECD_population_GDP\"\n",
    "socioeconomic_ssp_filepath = os.path.join(socioeconomic_directory, \"SspDb_country_data_2013-06-12.csv\")\n",
    "population_historical_filepath = os.path.join(socioeconomic_directory, \"HISTPOP_22082023151824127.csv\")\n",
    "gdp_historical_filepath = os.path.join(socioeconomic_directory, \"DP_LIVE_22082023165117703.csv\")"
   ]
  },
  {
   "cell_type": "code",
   "execution_count": 3,
   "id": "472015f8-9892-4b72-a8a5-5778670717a8",
   "metadata": {},
   "outputs": [],
   "source": [
    "climate_variables = [\n",
    "    \"temperature\", \n",
    "    \"pressure\",\n",
    "    \"wind_speed\",\n",
    "    \"precipitation\"\n",
    "]\n",
    "\n",
    "socioeconomic_variables = [\n",
    "    \"GDP|PPP\", \n",
    "    \"Population\"\n",
    "]\n",
    "\n",
    "atmospheric_variables = [\n",
    "    \"ch4\"\n",
    "]"
   ]
  },
  {
   "cell_type": "code",
   "execution_count": 4,
   "id": "5f021485-2290-42fa-baa7-32634e8a5a49",
   "metadata": {},
   "outputs": [],
   "source": [
    "SSPs = [str(ssp) for ssp in range(1, 5+1)]"
   ]
  },
  {
   "cell_type": "code",
   "execution_count": 5,
   "id": "8c89766c-1780-4c54-b496-aa1518c4df95",
   "metadata": {},
   "outputs": [],
   "source": [
    "frequency = \"M\"\n",
    "\n",
    "start_year = 2015\n",
    "end_year = 2023"
   ]
  },
  {
   "cell_type": "markdown",
   "id": "f3afa3e1-295f-432e-b087-8dd74f7e6c9a",
   "metadata": {},
   "source": [
    "## DOWNLOAD"
   ]
  },
  {
   "cell_type": "code",
   "execution_count": null,
   "id": "736839b7-98ad-43dd-865b-d802498fad57",
   "metadata": {
    "scrolled": true
   },
   "outputs": [],
   "source": [
    "# Downloading climate data from Copernicus CDS requires a registered account (free)\n",
    "download_climate_variables_data(data_subdirectory, climate_variables, SSPs, start_year, end_year)"
   ]
  },
  {
   "cell_type": "code",
   "execution_count": null,
   "id": "c2051a64-2b01-487a-b9ca-f7e57fa6cec9",
   "metadata": {},
   "outputs": [],
   "source": [
    "# Atmospheric SSP data is freely available via ESGF\n",
    "download_atmospheric_variables_data(data_subdirectory, atmospheric_variables, SSPs)"
   ]
  },
  {
   "cell_type": "markdown",
   "id": "d27547db-78ea-42b8-9d0d-b3cfb4107125",
   "metadata": {},
   "source": [
    "## PROCESS"
   ]
  },
  {
   "cell_type": "code",
   "execution_count": null,
   "id": "cd593051-ee36-47ca-84f8-20299390ac76",
   "metadata": {},
   "outputs": [
    {
     "name": "stdout",
     "output_type": "stream",
     "text": [
      "Processing files...\n",
      "ssp1_ch4.nc\n"
     ]
    },
    {
     "name": "stderr",
     "output_type": "stream",
     "text": [
      "Aggregating:  67%|████████████████████████████████████████████████████████████████████████████████████████████████████████████████████████▋                                                           | 173/258 [24:37<11:38,  8.21s/it]"
     ]
    }
   ],
   "source": [
    "process_netcdf_data(data_subdirectory, output_subdirectory, \n",
    "                    country_shapes_filepath, country_codes_filepath, alignments_filepath, \n",
    "                    frequency)"
   ]
  },
  {
   "cell_type": "code",
   "execution_count": null,
   "id": "93cb33bf-7920-4e0b-bd2c-ebd8abb73715",
   "metadata": {},
   "outputs": [],
   "source": [
    "# Country-level GDP and population SSP data is downloaded from IIASA via a registered account (free)\n",
    "\n",
    "# Process the socioeconomic datasets\n",
    "extract_socioeconomic_ssp_data(socioeconomic_ssp_filepath, output_subdirectory, socioeconomic_variables, SSPs, start_year, end_year, frequency)\n",
    "process_population_historical_data(population_historical_filepath, output_subdirectory, frequency)\n",
    "process_GDP_historical_data(gdp_historical_filepath, output_subdirectory, frequency)"
   ]
  },
  {
   "cell_type": "code",
   "execution_count": null,
   "id": "f645fd19-d3cc-4fd6-ab82-e3eab6672d34",
   "metadata": {},
   "outputs": [],
   "source": []
  },
  {
   "cell_type": "markdown",
   "id": "b812d83c-28e9-4da8-9e40-2a78fde18bab",
   "metadata": {},
   "source": [
    "# Scratch"
   ]
  },
  {
   "cell_type": "code",
   "execution_count": null,
   "id": "a0cb04a0-dd75-478f-a7e9-336813745800",
   "metadata": {},
   "outputs": [],
   "source": [
    "# CH4\n",
    "ds = xr.open_dataset(\"/Users/michellewan/PycharmProjects/TraCE/data_pipeline/raw/ch4/ssp1_ch4.nc\")"
   ]
  },
  {
   "cell_type": "code",
   "execution_count": null,
   "id": "e6978d91-0425-4edd-85b9-c7e423092f3b",
   "metadata": {},
   "outputs": [],
   "source": [
    "ds = ds.sel(lev=ds[\"lev\"].max().item())\n",
    "ds = ds.drop(\"lev\")"
   ]
  },
  {
   "cell_type": "code",
   "execution_count": null,
   "id": "f4d0a511-f573-4aa2-8151-9d0ea345f2cb",
   "metadata": {},
   "outputs": [],
   "source": [
    "country_shapes = gpd.read_file(country_shapes_filepath)"
   ]
  },
  {
   "cell_type": "code",
   "execution_count": null,
   "id": "4ca1579c-d679-4aae-90bc-9dff215ce927",
   "metadata": {},
   "outputs": [],
   "source": [
    "ds[\"ch4\"]"
   ]
  },
  {
   "cell_type": "code",
   "execution_count": null,
   "id": "8e252cc0-6def-49c9-80e5-08dc02637a03",
   "metadata": {},
   "outputs": [],
   "source": [
    "agg_ds = aggregate_country_data(ds, country_shapes)"
   ]
  },
  {
   "cell_type": "code",
   "execution_count": null,
   "id": "a44f0874-e610-48bf-8c4e-435b2947797e",
   "metadata": {},
   "outputs": [],
   "source": [
    "df = convert_nc_to_csv(agg_ds, \"ch4\")"
   ]
  },
  {
   "cell_type": "code",
   "execution_count": null,
   "id": "fd5941ae-3387-482a-a1c3-0fef81b84883",
   "metadata": {},
   "outputs": [],
   "source": [
    "# Extract the necessary data variables\n",
    "time_steps = agg_ds.time.values\n",
    "countries = agg_ds.country.values\n",
    "variable = agg_ds.values\n",
    "\n",
    "# Reshape the data into a 2D array\n",
    "# Rows: time steps, Columns: countries\n",
    "variable_reshaped = variable.transpose(1, 0)\n",
    "\n",
    "# Create a pandas DataFrame\n",
    "df = pd.DataFrame(data=variable_reshaped, index=time_steps, columns=countries)"
   ]
  },
  {
   "cell_type": "code",
   "execution_count": null,
   "id": "923f66e2-f872-48bb-ae94-cffd4d11b64a",
   "metadata": {},
   "outputs": [],
   "source": [
    "df.index"
   ]
  },
  {
   "cell_type": "code",
   "execution_count": null,
   "id": "d43d7557-ff23-4caa-ae20-ccd6495b03be",
   "metadata": {},
   "outputs": [],
   "source": [
    "df.index = df.index.astype(str)"
   ]
  },
  {
   "cell_type": "code",
   "execution_count": null,
   "id": "adbae07b-6b02-4b2e-aefe-6aa44d8405a4",
   "metadata": {},
   "outputs": [],
   "source": [
    "df.index"
   ]
  },
  {
   "cell_type": "code",
   "execution_count": null,
   "id": "080a07a0-ecd1-4a75-a0ab-78183a0a9485",
   "metadata": {},
   "outputs": [],
   "source": [
    "import cftime\n",
    "\n",
    "# Convert the cftime.DatetimeNoLeap objects to standard datetime objects\n",
    "datetime_index = [cftime.datetime(date.year, date.month, date.day) for date in df.index]\n"
   ]
  },
  {
   "cell_type": "code",
   "execution_count": null,
   "id": "7d6ea5b7-9295-44bd-bd43-aceb5eb9569d",
   "metadata": {},
   "outputs": [],
   "source": [
    "df.index = pd.to_datetime(df.index.astype(str))\n",
    "df.resample(\"Q\").mean()"
   ]
  },
  {
   "cell_type": "code",
   "execution_count": 7,
   "id": "845798c8-39c4-4378-b1f7-3c75e1870299",
   "metadata": {},
   "outputs": [
    {
     "ename": "NameError",
     "evalue": "name 'df' is not defined",
     "output_type": "error",
     "traceback": [
      "\u001b[0;31m---------------------------------------------------------------------------\u001b[0m",
      "\u001b[0;31mNameError\u001b[0m                                 Traceback (most recent call last)",
      "Cell \u001b[0;32mIn[7], line 1\u001b[0m\n\u001b[0;32m----> 1\u001b[0m \u001b[43mdf\u001b[49m\u001b[38;5;241m.\u001b[39mindex\n",
      "\u001b[0;31mNameError\u001b[0m: name 'df' is not defined"
     ]
    }
   ],
   "source": [
    "df.index"
   ]
  },
  {
   "cell_type": "code",
   "execution_count": null,
   "id": "a6706c9a-e90e-4836-bd73-c2f6fd416247",
   "metadata": {},
   "outputs": [],
   "source": []
  }
 ],
 "metadata": {
  "kernelspec": {
   "display_name": "Python 3 (ipykernel)",
   "language": "python",
   "name": "python3"
  },
  "language_info": {
   "codemirror_mode": {
    "name": "ipython",
    "version": 3
   },
   "file_extension": ".py",
   "mimetype": "text/x-python",
   "name": "python",
   "nbconvert_exporter": "python",
   "pygments_lexer": "ipython3",
   "version": "3.8.17"
  }
 },
 "nbformat": 4,
 "nbformat_minor": 5
}
